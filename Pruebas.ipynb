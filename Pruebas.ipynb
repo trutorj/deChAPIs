{
 "cells": [
  {
   "cell_type": "code",
   "execution_count": 1,
   "metadata": {},
   "outputs": [],
   "source": [
    "import requests\n",
    "import json"
   ]
  },
  {
   "cell_type": "code",
   "execution_count": 2,
   "metadata": {},
   "outputs": [
    {
     "name": "stdout",
     "output_type": "stream",
     "text": [
      "mongodb://localhost/APIchat\n",
      "Collection(Database(MongoClient(host=['localhost:27017'], document_class=dict, tz_aware=False, connect=True), 'APIchat'), 'users')\n"
     ]
    }
   ],
   "source": [
    "from pymongo import MongoClient\n",
    "dbName = \"APIchat\"\n",
    "mongodbURL = f\"mongodb://localhost/{dbName}\"\n",
    "print(mongodbURL)\n",
    "client = MongoClient(mongodbURL)\n",
    "# Conectar la db\n",
    "db = client.get_database()\n",
    "db = client.get_default_database()[\"users\"]\n",
    "print(db)"
   ]
  },
  {
   "cell_type": "markdown",
   "metadata": {},
   "source": [
    "## Meter usuarios"
   ]
  },
  {
   "cell_type": "code",
   "execution_count": 72,
   "metadata": {
    "scrolled": true
   },
   "outputs": [
    {
     "data": {
      "text/plain": [
       "{'$oid': '5eac51c057f1785c33cf9fa0'}"
      ]
     },
     "execution_count": 72,
     "metadata": {},
     "output_type": "execute_result"
    }
   ],
   "source": [
    "requests.get(\"http://localhost:3500/users/create/juan_antonio\").json()"
   ]
  },
  {
   "cell_type": "markdown",
   "metadata": {},
   "source": [
    "## Crear un chat y añadirle usuarios"
   ]
  },
  {
   "cell_type": "code",
   "execution_count": 30,
   "metadata": {},
   "outputs": [
    {
     "data": {
      "text/plain": [
       "<Response [500]>"
      ]
     },
     "execution_count": 30,
     "metadata": {},
     "output_type": "execute_result"
    }
   ],
   "source": [
    "requests.get('http://localhost:3500/chat/create?n_chat=piticlio4&u=jaime')"
   ]
  },
  {
   "cell_type": "markdown",
   "metadata": {},
   "source": [
    "## Añadir usuarios a un chat existente"
   ]
  },
  {
   "cell_type": "code",
   "execution_count": 75,
   "metadata": {},
   "outputs": [
    {
     "data": {
      "text/plain": [
       "{'status': 'Added user to the chat nuevo'}"
      ]
     },
     "execution_count": 75,
     "metadata": {},
     "output_type": "execute_result"
    }
   ],
   "source": [
    "requests.get(\"http://localhost:3500/chat/nuevo/adduser?u=guaran\").json()"
   ]
  },
  {
   "cell_type": "code",
   "execution_count": 46,
   "metadata": {},
   "outputs": [
    {
     "name": "stdout",
     "output_type": "stream",
     "text": [
      "{'_id': ObjectId('5eab3d7b28f6a67499a19183')}\n",
      "{'_id': ObjectId('5eab3f3b7cf5dc3ac44698dc')}\n",
      "{'_id': ObjectId('5eab3f707cf5dc3ac44698dd')}\n"
     ]
    }
   ],
   "source": [
    "usuarios = [\"jesus\", \"juan\", \"guaran\"]\n",
    "usuarios_id = []\n",
    "for i,e in enumerate(usuarios):\n",
    "    id_u = (db.find({\"username\":f\"{e}\"}, {\"_id\":1})\n",
    "    print(id_u[0])\n",
    "    #usuarios_id.append(id_u[0])"
   ]
  },
  {
   "cell_type": "markdown",
   "metadata": {},
   "source": [
    "## Sacar lista de mensajes de chat"
   ]
  },
  {
   "cell_type": "code",
   "execution_count": 3,
   "metadata": {},
   "outputs": [
    {
     "data": {
      "text/plain": [
       "{'list': [\"I'm pretty sure Sperm isn't technically vegan considering it's a by product from an animal.\",\n",
       "  \"that's a nice pair:)\",\n",
       "  'Can you not see they are hard plastic coconuts? Ugh.',\n",
       "  \"They've been manipulated.. I mean enhanced by brown curved lines.. if you look close enough\",\n",
       "  'Still not clear on how that rates as vegan? They cannot eat eggs but go to town on semen!',\n",
       "  'Deep throat lol',\n",
       "  'she can use one of my samples if she wants. but its best taken orally straight from the source.',\n",
       "  \"All fools' day was delayed by covid 19\",\n",
       "  'Do the metro know it is May 1st not April 1st?',\n",
       "  \"She's saving the oceans keeping all that plastic out of them.\",\n",
       "  \"Because without a platform they'd droop!\",\n",
       "  'Why do you give these people a platform with those plastic boobs',\n",
       "  \"Unless she's dating a vegetable\",\n",
       "  'I went out with a vegan, but she would not swallow.',\n",
       "  'Not vegan friendly',\n",
       "  'Good one.',\n",
       "  'I know who the boyfriend is..!! He drives an Astra and was caught on the M6 recently trying to fill an ice tray whilst talking to Tracy Kiss.',\n",
       "  'It does taste like bleach, after all.',\n",
       "  'Please do not give the moronic public anything else to use. They can skew any statement. Quite pitiful although funny.',\n",
       "  'She should write to Donald Trump and tell him about this',\n",
       "  \"Well, I didn't know any of this lol!! I must have been living under a rock! Can I assume then that you know all of this from your own personal experience? You sound like a very naughty young lady!!\",\n",
       "  \"You win Metro comments for a 'hole' week.\",\n",
       "  'This is completely wrong. Everyone knows you only get the full immunological benefits by absorption through the rectal lining. I wouldn’t advise ice cube suppositories though. It may be difficult and you’ll probably have to coerce him, but you may (for your own health) be able to convince your boyfriend to apply it in this manner directly.',\n",
       "  'Then complain when they get it.',\n",
       "  'Anybody with plastic bags in their chest is desperate for attention. Pathetic really.',\n",
       "  'Some people are desperate for attention.'],\n",
       " 'status': '26 messages found in the chat'}"
      ]
     },
     "execution_count": 3,
     "metadata": {},
     "output_type": "execute_result"
    }
   ],
   "source": [
    "requests.get(\"http://localhost:3500/chat/semen_drink/list\").json()"
   ]
  },
  {
   "cell_type": "code",
   "execution_count": 13,
   "metadata": {},
   "outputs": [
    {
     "data": {
      "text/plain": [
       "ObjectId('5eac38da0c136cbed81204b4')"
      ]
     },
     "execution_count": 13,
     "metadata": {},
     "output_type": "execute_result"
    }
   ],
   "source": [
    "chat_name = \"nuevo\"\n",
    "# Extract the id of the chat from chat name\n",
    "id_chat = list(db.find({\"chatname\":chat_name}, {\"_id\":1}))[0]\n",
    "#rint(id_chat[0][\"_id\"])\n",
    "id_chat[\"_id\"]"
   ]
  },
  {
   "cell_type": "code",
   "execution_count": 21,
   "metadata": {
    "scrolled": true
   },
   "outputs": [
    {
     "name": "stdout",
     "output_type": "stream",
     "text": [
      "[{'_id': ObjectId('5ead2a1c1e5ed70d3f2a0e54'), 'type': 'message', 'chat_id': ObjectId('5eac38da0c136cbed81204b4'), 'user_id': ObjectId('5eab3d7b28f6a67499a19183'), 'text': 'vamosque nos vamos'}]\n",
      "['vamosque nos vamos']\n"
     ]
    }
   ],
   "source": [
    "# Lok for all the messages in that chat\n",
    "messages = list(db.find({\"$and\":[{\"type\": \"message\"}, {\"chat_id\":id_chat[\"_id\"]}]}))\n",
    "len(messages)\n",
    "print(messages)\n",
    "lista = [e[\"text\"] for e in messages]\n",
    "print(lista)\n",
    "\n"
   ]
  }
 ],
 "metadata": {
  "kernelspec": {
   "display_name": "Python 3.8.1 64-bit ('ironhack': conda)",
   "language": "python",
   "name": "python38164bitironhackconda30751464bf1f4a49ad9b37bed97d4298"
  },
  "language_info": {
   "codemirror_mode": {
    "name": "ipython",
    "version": 3
   },
   "file_extension": ".py",
   "mimetype": "text/x-python",
   "name": "python",
   "nbconvert_exporter": "python",
   "pygments_lexer": "ipython3",
   "version": "3.8.1"
  }
 },
 "nbformat": 4,
 "nbformat_minor": 4
}
